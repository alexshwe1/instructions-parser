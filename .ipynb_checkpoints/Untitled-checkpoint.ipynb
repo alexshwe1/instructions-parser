{
 "cells": [
  {
   "cell_type": "code",
   "execution_count": 5,
   "id": "315cc821",
   "metadata": {},
   "outputs": [
    {
     "ename": "NameError",
     "evalue": "name 'tp_comma' is not defined",
     "output_type": "error",
     "traceback": [
      "\u001b[0;31m---------------------------------------------------------------------------\u001b[0m",
      "\u001b[0;31mNameError\u001b[0m                                 Traceback (most recent call last)",
      "\u001b[0;32m/var/folders/44/07bczkdj5vn0j2nfnr4pqyz40000gn/T/ipykernel_30197/991998931.py\u001b[0m in \u001b[0;36m<module>\u001b[0;34m\u001b[0m\n\u001b[1;32m      3\u001b[0m \u001b[0msplit_by_spaces\u001b[0m \u001b[0;34m=\u001b[0m \u001b[0mtxt\u001b[0m\u001b[0;34m.\u001b[0m\u001b[0msplit\u001b[0m\u001b[0;34m(\u001b[0m\u001b[0;34m\" \"\u001b[0m\u001b[0;34m)\u001b[0m\u001b[0;34m\u001b[0m\u001b[0;34m\u001b[0m\u001b[0m\n\u001b[1;32m      4\u001b[0m \u001b[0;32mfor\u001b[0m \u001b[0msplit\u001b[0m \u001b[0;32min\u001b[0m \u001b[0msplit_by_spaces\u001b[0m\u001b[0;34m:\u001b[0m\u001b[0;34m\u001b[0m\u001b[0;34m\u001b[0m\u001b[0m\n\u001b[0;32m----> 5\u001b[0;31m     \u001b[0;32mif\u001b[0m \u001b[0msplit\u001b[0m\u001b[0;34m.\u001b[0m\u001b[0mstartswith\u001b[0m\u001b[0;34m(\u001b[0m\u001b[0mtp_comma\u001b[0m \u001b[0;34m+\u001b[0m \u001b[0;34m\",\"\u001b[0m\u001b[0;34m)\u001b[0m\u001b[0;34m:\u001b[0m\u001b[0;34m\u001b[0m\u001b[0;34m\u001b[0m\u001b[0m\n\u001b[0m\u001b[1;32m      6\u001b[0m                 \u001b[0mprint\u001b[0m\u001b[0;34m(\u001b[0m\u001b[0;34m\"HIIIIIIIII\"\u001b[0m\u001b[0;34m)\u001b[0m\u001b[0;34m\u001b[0m\u001b[0;34m\u001b[0m\u001b[0m\n",
      "\u001b[0;31mNameError\u001b[0m: name 'tp_comma' is not defined"
     ]
    }
   ],
   "source": [
    "txt = \"RANDOM OBJECT metal,49.99,0, plastic,39.99,0, buttons,.87,1,rubber processor,12.34,2,wires;silicon fan blades,3.5,1,plastic motor,2.16,1,metal fan,33.33,6,buttons;fan blades;motor;wires;frame;processor wires,7.75,2,plastic;metal frame,5.67,1,plastic RANDOM OBJECT,3.50,4,metal;rubber;silicon;plastic rubber,29.99,0, silicon,200.61,0,\"\n",
    "\n",
    "split_by_spaces = txt.split(\" \")\n",
    "\n",
    "for split in split_by_spaces:\n",
    "    if split.startswith(tp_comma + \",\"):\n",
    "                print(\"HIIIIIIIII\")\n"
   ]
  },
  {
   "cell_type": "code",
   "execution_count": 33,
   "id": "608eb965",
   "metadata": {},
   "outputs": [
    {
     "name": "stdout",
     "output_type": "stream",
     "text": [
      "The value after the keyword 'KEYWORD' is: 12.34\n"
     ]
    }
   ],
   "source": [
    "import re\n",
    "\n",
    "def find_value_after_keyword(keyword, input_string):\n",
    "    pattern = rf\".*{re.escape(keyword)},([^,]+),([^,]+)\"\n",
    "    match = re.search(pattern, input_string)\n",
    "    if match:\n",
    "        value_str = match.group(1)\n",
    "        try:\n",
    "            value = float(value_str)\n",
    "            return value\n",
    "        except ValueError:\n",
    "            return None\n",
    "    return None\n",
    "\n",
    "\n",
    "# Example usage\n",
    "input_string = \"Sample text before KEYWORD,12.34,34.56,78.9\"\n",
    "keyword = \"KEYWORD\"\n",
    "\n",
    "value = find_value_after_keyword(keyword, input_string)\n",
    "print(f\"The value after the keyword '{keyword}' is: {value}\")"
   ]
  },
  {
   "cell_type": "code",
   "execution_count": 37,
   "id": "654c4447",
   "metadata": {},
   "outputs": [
    {
     "name": "stdout",
     "output_type": "stream",
     "text": [
      "The subingredients of 'RANDOM OBJECT' are:\n"
     ]
    },
    {
     "ename": "TypeError",
     "evalue": "'NoneType' object is not iterable",
     "output_type": "error",
     "traceback": [
      "\u001b[0;31m---------------------------------------------------------------------------\u001b[0m",
      "\u001b[0;31mTypeError\u001b[0m                                 Traceback (most recent call last)",
      "\u001b[0;32m/var/folders/44/07bczkdj5vn0j2nfnr4pqyz40000gn/T/ipykernel_30197/2405111524.py\u001b[0m in \u001b[0;36m<module>\u001b[0;34m\u001b[0m\n\u001b[1;32m     17\u001b[0m \u001b[0msubingredients\u001b[0m \u001b[0;34m=\u001b[0m \u001b[0mfind_subingredients\u001b[0m\u001b[0;34m(\u001b[0m\u001b[0mtarget_object\u001b[0m\u001b[0;34m,\u001b[0m \u001b[0minput_string\u001b[0m\u001b[0;34m)\u001b[0m\u001b[0;34m\u001b[0m\u001b[0;34m\u001b[0m\u001b[0m\n\u001b[1;32m     18\u001b[0m \u001b[0mprint\u001b[0m\u001b[0;34m(\u001b[0m\u001b[0;34mf\"The subingredients of '{target_object}' are:\"\u001b[0m\u001b[0;34m)\u001b[0m\u001b[0;34m\u001b[0m\u001b[0;34m\u001b[0m\u001b[0m\n\u001b[0;32m---> 19\u001b[0;31m \u001b[0;32mfor\u001b[0m \u001b[0msubingredient\u001b[0m \u001b[0;32min\u001b[0m \u001b[0msubingredients\u001b[0m\u001b[0;34m:\u001b[0m\u001b[0;34m\u001b[0m\u001b[0;34m\u001b[0m\u001b[0m\n\u001b[0m\u001b[1;32m     20\u001b[0m     \u001b[0mprint\u001b[0m\u001b[0;34m(\u001b[0m\u001b[0msubingredient\u001b[0m\u001b[0;34m)\u001b[0m\u001b[0;34m\u001b[0m\u001b[0;34m\u001b[0m\u001b[0m\n",
      "\u001b[0;31mTypeError\u001b[0m: 'NoneType' object is not iterable"
     ]
    }
   ],
   "source": [
    "import re\n",
    "\n",
    "def find_subingredients(target_object, input_string):\n",
    "    pattern = rf\"{re.escape(target_object)}((?:[^,;]+,){3}[^;]+)\"\n",
    "    match = re.search(pattern, input_string)\n",
    "    if match:\n",
    "        subingredients_str = match.group(1)\n",
    "        subingredients = re.findall(r\"[^, ]+(?=,|$)\", subingredients_str)\n",
    "        return subingredients\n",
    "    return None\n",
    "\n",
    "\n",
    "# Example usage\n",
    "input_string = \"RANDOM OBJECT metal,49.99,0, plastic,39.99,0, buttons,.87,1,rubber processor,12.34,2,wires;silicon fan blades,3.5,1,plastic motor,2.16,1,metal fan,33.33,6,buttons;fan blades;motor;wires;frame;processor wires,7.75,2,plastic;metal frame,5.67,1,plastic RANDOM OBJECT,3.50,4,metal;rubber;silicon;plastic rubber,29.99,0, silicon,200.61,0,\"\n",
    "target_object = \"RANDOM OBJECT\"\n",
    "\n",
    "subingredients = find_subingredients(target_object, input_string)\n",
    "print(f\"The subingredients of '{target_object}' are:\")\n",
    "for subingredient in subingredients:\n",
    "    print(subingredient)\n"
   ]
  },
  {
   "cell_type": "code",
   "execution_count": 60,
   "id": "537b308e",
   "metadata": {},
   "outputs": [
    {
     "ename": "AttributeError",
     "evalue": "'str' object has no attribute 'append'",
     "output_type": "error",
     "traceback": [
      "\u001b[0;31m---------------------------------------------------------------------------\u001b[0m",
      "\u001b[0;31mAttributeError\u001b[0m                            Traceback (most recent call last)",
      "\u001b[0;32m/var/folders/44/07bczkdj5vn0j2nfnr4pqyz40000gn/T/ipykernel_30197/882384807.py\u001b[0m in \u001b[0;36m<module>\u001b[0;34m\u001b[0m\n\u001b[1;32m      2\u001b[0m \u001b[0mcur\u001b[0m \u001b[0;34m=\u001b[0m \u001b[0;34m\"\"\u001b[0m\u001b[0;34m\u001b[0m\u001b[0;34m\u001b[0m\u001b[0m\n\u001b[1;32m      3\u001b[0m \u001b[0;32mfor\u001b[0m \u001b[0mi\u001b[0m \u001b[0;32min\u001b[0m \u001b[0mrange\u001b[0m\u001b[0;34m(\u001b[0m\u001b[0mlen\u001b[0m\u001b[0;34m(\u001b[0m\u001b[0mlast_child_list\u001b[0m\u001b[0;34m)\u001b[0m\u001b[0;34m)\u001b[0m\u001b[0;34m:\u001b[0m\u001b[0;34m\u001b[0m\u001b[0;34m\u001b[0m\u001b[0m\n\u001b[0;32m----> 4\u001b[0;31m     \u001b[0mcur\u001b[0m\u001b[0;34m.\u001b[0m\u001b[0mappend\u001b[0m\u001b[0;34m(\u001b[0m\u001b[0mlast_child_list\u001b[0m\u001b[0;34m[\u001b[0m\u001b[0mi\u001b[0m\u001b[0;34m]\u001b[0m\u001b[0;34m)\u001b[0m\u001b[0;34m\u001b[0m\u001b[0;34m\u001b[0m\u001b[0m\n\u001b[0m\u001b[1;32m      5\u001b[0m     \u001b[0mprint\u001b[0m\u001b[0;34m(\u001b[0m\u001b[0mcur\u001b[0m\u001b[0;34m)\u001b[0m\u001b[0;34m\u001b[0m\u001b[0;34m\u001b[0m\u001b[0m\n",
      "\u001b[0;31mAttributeError\u001b[0m: 'str' object has no attribute 'append'"
     ]
    }
   ],
   "source": [
    "last_child_list = [\"plastic\", \"windshield\"]\n",
    "cur = \"\"\n",
    "for i in range(len(last_child_list)):\n",
    "    cur += (\" \" + last_child_list[i])\n",
    "    print(cur)"
   ]
  },
  {
   "cell_type": "code",
   "execution_count": null,
   "id": "189882ae",
   "metadata": {},
   "outputs": [],
   "source": []
  }
 ],
 "metadata": {
  "kernelspec": {
   "display_name": "Python 3 (ipykernel)",
   "language": "python",
   "name": "python3"
  },
  "language_info": {
   "codemirror_mode": {
    "name": "ipython",
    "version": 3
   },
   "file_extension": ".py",
   "mimetype": "text/x-python",
   "name": "python",
   "nbconvert_exporter": "python",
   "pygments_lexer": "ipython3",
   "version": "3.9.13"
  }
 },
 "nbformat": 4,
 "nbformat_minor": 5
}
